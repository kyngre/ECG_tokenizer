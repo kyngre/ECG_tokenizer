{
 "cells": [
  {
   "cell_type": "markdown",
   "id": "0b39901c-84ab-47a3-af77-2d5c3860cc73",
   "metadata": {},
   "source": [
    "# Neruo Kit\n",
    "- https://neuropsychology.github.io/NeuroKit/functions/ecg.html"
   ]
  },
  {
   "cell_type": "code",
   "execution_count": 1,
   "id": "908f4789-c3e1-46f7-8fb7-90534bc67ae6",
   "metadata": {},
   "outputs": [],
   "source": [
    "import os\n",
    "import pandas as pd\n",
    "import neurokit2 as nk\n",
    "import numpy as np\n",
    "\n",
    "ecg_path = '/tf/hsh/new_ecg/lead2/'\n",
    "ecg_list = os.listdir(ecg_path)\n",
    "\n",
    "# Load the ECG data\n",
    "data = pd.read_csv(f\"{ecg_path}/{ecg_list[2312]}\")"
   ]
  },
  {
   "cell_type": "code",
   "execution_count": 2,
   "id": "f5be4361-d7fc-40e9-a953-b51e6816b083",
   "metadata": {},
   "outputs": [
    {
     "name": "stdout",
     "output_type": "stream",
     "text": [
      "Heart Rate (bpm): 90.81735620585268\n",
      "Rhythm: regular\n",
      "PR Interval (mean, seconds): 0.14542857142857143\n",
      "QRS Duration (mean, seconds): 0.2424\n",
      "QT Interval (mean, seconds): 0.3652\n",
      "ST Segment Elevation (mean): -0.005848767609509961\n",
      "T-Wave Inverted: False\n"
     ]
    }
   ],
   "source": [
    "# Extract the II lead signal and sampling rate\n",
    "ecg_signal = data[\"II\"].values\n",
    "sampling_rate = 500  # Assuming 500Hz sampling rate based on the time steps in your data\n",
    "\n",
    "# 1. Preprocess the ECG signal\n",
    "ecg_cleaned = nk.ecg_clean(ecg_signal, sampling_rate=sampling_rate)\n",
    "\n",
    "# 2. Extract ECG features\n",
    "ecg_signals, ecg_info = nk.ecg_process(ecg_cleaned, sampling_rate=sampling_rate)\n",
    "\n",
    "# Extract R-peaks (for rhythm analysis and heart rate calculation)\n",
    "r_peaks = ecg_info.get('ECG_R_Peaks', [])\n",
    "\n",
    "# Heart Rate and Rhythm Calculation\n",
    "if len(r_peaks) > 1:\n",
    "    rr_intervals = np.diff(r_peaks) / sampling_rate  # Time difference between successive R peaks (in seconds)\n",
    "    heart_rate = 60 / np.mean(rr_intervals)  # Convert RR interval to beats per minute (bpm)\n",
    "    rhythm = 'regular' if np.std(rr_intervals) < 0.12 else 'irregular'\n",
    "else:\n",
    "    heart_rate = np.nan\n",
    "    rhythm = \"unknown\"\n",
    "\n",
    "# P-waves detection and PR Interval calculation\n",
    "p_peaks = ecg_info.get('ECG_P_Peaks', [])\n",
    "pr_intervals = []\n",
    "if len(p_peaks) > 0 and len(r_peaks) > 0:\n",
    "    for p_peak in p_peaks:\n",
    "        r_after_p = r_peaks[r_peaks > p_peak]\n",
    "        if len(r_after_p) > 0:\n",
    "            pr_interval = (r_after_p[0] - p_peak) / sampling_rate\n",
    "            pr_intervals.append(pr_interval)\n",
    "mean_pr_interval = np.mean(pr_intervals) if len(pr_intervals) > 0 else np.nan\n",
    "\n",
    "# QRS Complex duration calculation (handling nan values)\n",
    "qrs_onsets = ecg_info.get('ECG_R_Onsets', [])\n",
    "qrs_offsets = ecg_info.get('ECG_R_Offsets', [])\n",
    "qrs_durations = []\n",
    "for onset, offset in zip(qrs_onsets, qrs_offsets):\n",
    "    if not np.isnan(onset) and not np.isnan(offset):\n",
    "        qrs_duration = (offset - onset) / sampling_rate\n",
    "        qrs_durations.append(qrs_duration)\n",
    "mean_qrs_duration = np.mean(qrs_durations) if len(qrs_durations) > 0 else np.nan\n",
    "\n",
    "# T-wave detection and QT Interval calculation (handling nan values)\n",
    "t_peaks = ecg_info.get('ECG_T_Peaks', [])\n",
    "qt_intervals = []\n",
    "for onset, t_peak in zip(qrs_onsets, t_peaks):\n",
    "    if not np.isnan(onset) and not np.isnan(t_peak):\n",
    "        qt_interval = (t_peak - onset) / sampling_rate\n",
    "        qt_intervals.append(qt_interval)\n",
    "mean_qt_interval = np.mean(qt_intervals) if len(qt_intervals) > 0 else np.nan\n",
    "\n",
    "# ST Segment Analysis\n",
    "st_segment_window = int(0.08 * sampling_rate)  # 80 ms window\n",
    "st_elevations = []\n",
    "if len(qrs_offsets) > 0:\n",
    "    for offset in qrs_offsets:\n",
    "        if offset + st_segment_window < len(ecg_cleaned):\n",
    "            st_elevation = np.mean(ecg_cleaned[offset:offset + st_segment_window])\n",
    "            st_elevations.append(st_elevation)\n",
    "mean_st_elevation = np.mean(st_elevations) if len(st_elevations) > 0 else np.nan\n",
    "\n",
    "# T-wave analysis: Inverted T-waves\n",
    "t_peaks = [int(t) for t in t_peaks if not np.isnan(t)]\n",
    "if len(t_peaks) > 0:\n",
    "    t_wave_amplitudes = ecg_cleaned[t_peaks]\n",
    "    t_wave_inverted = np.any(t_wave_amplitudes < 0)\n",
    "else:\n",
    "    t_wave_inverted = False\n",
    "\n",
    "# 결과 출력\n",
    "print(\"Heart Rate (bpm):\", heart_rate)\n",
    "print(\"Rhythm:\", rhythm)\n",
    "print(\"PR Interval (mean, seconds):\", mean_pr_interval)\n",
    "print(\"QRS Duration (mean, seconds):\", mean_qrs_duration)\n",
    "print(\"QT Interval (mean, seconds):\", mean_qt_interval)\n",
    "print(\"ST Segment Elevation (mean):\", mean_st_elevation)\n",
    "print(\"T-Wave Inverted:\", t_wave_inverted)\n"
   ]
  },
  {
   "cell_type": "code",
   "execution_count": null,
   "id": "50fd52bf-eb45-40e0-860c-a2679eb42003",
   "metadata": {},
   "outputs": [],
   "source": [
    "print(ecg_info['ECG_R_Onsets'],ecg_info['ECG_R_Offsets'])"
   ]
  },
  {
   "cell_type": "code",
   "execution_count": null,
   "id": "1e85190d-b517-40bb-bd55-7327b2b5d5ec",
   "metadata": {},
   "outputs": [],
   "source": [
    "print(qrs_onsets, qrs_offsets)"
   ]
  },
  {
   "cell_type": "code",
   "execution_count": null,
   "id": "677338bd-cd89-431a-8059-5e90c7ab7fc3",
   "metadata": {},
   "outputs": [],
   "source": [
    "t_peaks"
   ]
  }
 ],
 "metadata": {
  "kernelspec": {
   "display_name": "Python 3 (ipykernel)",
   "language": "python",
   "name": "python3"
  },
  "language_info": {
   "codemirror_mode": {
    "name": "ipython",
    "version": 3
   },
   "file_extension": ".py",
   "mimetype": "text/x-python",
   "name": "python",
   "nbconvert_exporter": "python",
   "pygments_lexer": "ipython3",
   "version": "3.10.8"
  }
 },
 "nbformat": 4,
 "nbformat_minor": 5
}
